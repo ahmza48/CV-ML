{
 "cells": [
  {
   "cell_type": "code",
   "execution_count": 7,
   "id": "975a2b2c-5ce5-43e4-ad43-e8844792fa21",
   "metadata": {},
   "outputs": [
    {
     "name": "stdout",
     "output_type": "stream",
     "text": [
      "[1 1 1 1 1 1 1 1 1 1 1 1 1 1 1 1 1 1 1 1 1 1 1 1 1 1 1 1 1 1 1 1 1 1 1 1 1\n",
      " 1 1 1 1 1 1 1 1 1 1 1 1 1 1 1 1 1 1 1 1 1 1 1 1 1 1 1 1 1 1 1 1 1 1 1 1 1\n",
      " 1 1 1 1 1 1 1 1 1 1 1 1 1 1 1 1 1 1 1 1 1 1 1 1 1 1 1 1 1 1 1 1 1 1 1 1 1\n",
      " 1 1 1 1 1 1 1 1 1 1 1 1 1 1 1 1 1 1 1 1 1 1 1 1 1 1 1 1 1 1 1 1 1 1 1 1 1\n",
      " 1 1 1 1 1 1 1 1 1 1 1 1 1 1 1 1 1 1 1 1 1 1 1 1 1 1 1 1 1 1 1 1 1 1 1 1 1\n",
      " 1 1 1 1 1 1 1 1 1 1 1 1 1 1 1 1 1 1 1 1 1 1 1 1 1 1 1 1 1 1 1 1 1 1 1 1 1\n",
      " 1 1 1 1 1 1 1 1 1 1 1 1 1 1 1 1 1 1 1 1 1 1 1 1 1 1 1 1 1 1 1 1 1 1 1 1 0\n",
      " 0 0 0 0 0 0 0 0 0 0 0 0 0 0 0 0 0 0 0 0 0 0 0 0 0 0 0 0 0 0 0 0 0 0 0 0 0\n",
      " 0 0 0 0 0 0 0 0 0 0 0 1 1 1 1 1 1 1 1 1 1 1 1 1 1 1 1 1 1 1 1 1 1 1 1 1 1\n",
      " 1 1 1 1 1 1 1 1 1 1 1 1 1 1 1 1 1 1 1 1 1 1 1 1 1 1 1 1 1 1 1 1 1 1 1 1 1\n",
      " 1 1 1 1 1 1 1 1 1 1 1 1 1 1 1 1 1 1 1 1 1 1 1 1 1 1 1 1 1 1 1 1 1 1 1 1 1\n",
      " 1 1 1 1 1 1 1 1 1 1 1 1 1 1 1 1 1 1 1 1 1 1 1 1 1 1 1 1 1 1 1 1 1 1 1 1 1\n",
      " 1 1 1 1 1 1 1 1 1 1 1 1 1 1 1 1 1 1 1 1 1 1 1 1 1 1 1 1 1 1 1 1 1 1 1 1 1\n",
      " 1 1 1 1 1 1 1 1 1 1 1 1 1 1 1 1 1 1 1 1 1 1 1 1 1 1 1 1 1 1 1 1 1 1 1 1 1\n",
      " 1 1 1 1 1 1 1 1 1 1 1 1 1 1 1 1 1 1 1 1 1 1 1 1 1 1 1 1 1 1 1 1 1 1 1 1 1\n",
      " 1 1 1 1 1 1 1 1 1 1 1 1 1 1 1 1 1 1 1 1 1 1 1 1 1 1 1 1 1 1 1 1 1 1 1 1 1\n",
      " 1 1 1 1 1 1 1 1 1 1 1 1 1 1 1 1 1 1 1 1 1 1 1 1 1 1 1 1 1 1 1 1 1 1 1 1 1\n",
      " 1 1 1 1 1 1 1 1 1 1 1 1 1 1 1 1 1 1 1 1 1 1 1 1 1 1 1 1 1 1 1 1 1 1 1 1 1\n",
      " 1 1 1 1 1 1 1 1 1 1 1 1 1 1 1 1 1 1 1 1 1 1 1 1 1 1 1 1 1 1 1 1 1 1 1 1 1\n",
      " 1 1 1 1 1 1 1 1 1 1 1 1 1 1 1 1 1 1 1 1 1 1 1 1 1 1 1 1 1 1 1 1 1 1 1 1 1\n",
      " 1 1 1 1 1 1 1 1 1 1 1 1 1 1 1 1 1 1 1 1 1 1 1 1 1 1 1 1 1 1 1 1 1 1 1 1 1\n",
      " 1 1 1 1 1 1 1 1 1 1 1 1 1 1 1 1 1 1 1 1 1 1 1 1 1 1 1 1 1 1 1 1 1 1 1 1 1\n",
      " 1 1 1 1 1 1 1 1 1 1 1 1 1 1 1 1 1 1 1 1 1 1 1 1 1 1 1 1 1 1 1 1 1 1 1 1 1\n",
      " 1 1 1 1 1 1 1 1 1 1 1 1 1 1 1 1 1 1 1 1 1 1 1 1 1 1 1 1 1 1 1 1 1 1 1 1 1\n",
      " 1 0 0 0 0 0 0 0 0 0 0 0 0 0 0]\n"
     ]
    }
   ],
   "source": [
    "#Training DataSet\n",
    "import os\n",
    "import numpy as np\n",
    "from PIL import Image\n",
    "import h5py\n",
    "\n",
    "image_dir = 'c:\\\\Users\\\\HP 1000\\\\Downloads\\\\ML Assignment 3\\\\training_images'\n",
    "\n",
    "x_img = []  \n",
    "y_label = []  \n",
    "\n",
    "for filename in os.listdir(image_dir):\n",
    "    if filename.endswith('.jpg') or filename.endswith('.png'):  \n",
    "        image_path = os.path.join(image_dir, filename)\n",
    "        img = Image.open(image_path)\n",
    "        img = img.resize((64, 64))  \n",
    "        img = np.array(img)\n",
    "        x_img.append(img)\n",
    "\n",
    "        if 'nocar' in filename or 'for sale' in filename:\n",
    "            label = 0\n",
    "        else:\n",
    "            label = 1\n",
    "        y_label.append(label)\n",
    "\n",
    "x_img = np.array(x_img)\n",
    "y_label = np.array(y_label)\n",
    "print(y_label)\n",
    "\n",
    "with h5py.File('training_car_images.hdf5', 'w') as hf:\n",
    "    dset_x = hf.create_dataset('train_set_x', data=x_img, shape=x_img.shape, compression='gzip', chunks=True)\n",
    "    dset_y = hf.create_dataset('train_set_y', data=y_label, shape=y_label.shape, compression='gzip', chunks=True)"
   ]
  },
  {
   "cell_type": "code",
   "execution_count": 8,
   "id": "9292068f-c7a5-4d6d-b28d-7eeb0cd1a8fa",
   "metadata": {},
   "outputs": [],
   "source": [
    "import os\n",
    "import numpy as np\n",
    "from PIL import Image\n",
    "import h5py\n",
    "\n",
    "image_dir = 'c:\\\\Users\\\\HP 1000\\\\Downloads\\\\ML Assignment 3\\\\testing_images'\n",
    "\n",
    "x_img = [] \n",
    "y_label = []  \n",
    "\n",
    "for filename in os.listdir(image_dir):\n",
    "    if filename.endswith('.jpg') or filename.endswith('.png'): \n",
    "        image_path = os.path.join(image_dir, filename)\n",
    "        img = Image.open(image_path)\n",
    "        img = img.resize((64, 64))  \n",
    "        img = np.array(img)  \n",
    "        x_img.append(img)\n",
    "\n",
    "        if 'nocar' in filename:\n",
    "            label = 0\n",
    "        else:\n",
    "            label = 1\n",
    "        y_label.append(label)\n",
    "\n",
    "x_img = np.array(x_img)\n",
    "y_label = np.array(y_label)\n",
    "\n",
    "with h5py.File('testing_car_images.hdf5', 'w') as hf:\n",
    "    dset_x = hf.create_dataset('test_set_x', data=x_img, shape=x_img.shape, compression='gzip', chunks=True)\n",
    "    dset_y = hf.create_dataset('test_set_y', data=y_label, shape=y_label.shape, compression='gzip', chunks=True)\n",
    "    dset_classes = hf.create_dataset('list_classes', data=np.array(['NonCar', 'Car'], dtype='S3'), compression='gzip')\n"
   ]
  },
  {
   "cell_type": "code",
   "execution_count": null,
   "id": "19fb35a7-cf04-415b-b2ec-cd0708f801d5",
   "metadata": {},
   "outputs": [],
   "source": []
  }
 ],
 "metadata": {
  "kernelspec": {
   "display_name": "Python 3 (ipykernel)",
   "language": "python",
   "name": "python3"
  },
  "language_info": {
   "codemirror_mode": {
    "name": "ipython",
    "version": 3
   },
   "file_extension": ".py",
   "mimetype": "text/x-python",
   "name": "python",
   "nbconvert_exporter": "python",
   "pygments_lexer": "ipython3",
   "version": "3.9.13"
  }
 },
 "nbformat": 4,
 "nbformat_minor": 5
}
